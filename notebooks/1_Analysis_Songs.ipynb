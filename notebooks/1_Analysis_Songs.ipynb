{
 "cells": [
  {
   "cell_type": "markdown",
   "id": "3a185229",
   "metadata": {},
   "source": [
    "# Taller de la Ley de Zipf  \n",
    "\n",
    "### Integrantes del grupo:\n",
    "- Nombre 1  \n",
    "- Nombre 2  \n",
    "- Cristian Cardozo - cristiancardozo@javeriana.edu.co\n",
    "\n",
    "📅 **Fecha de entrega:** [11/08/2025]\n"
   ]
  },
  {
   "cell_type": "markdown",
   "id": "966a11f8",
   "metadata": {},
   "source": [
    "## Introducción\n",
    "\n",
    "La Ley de Zipf establece que en una lengua natural, la frecuencia de las palabras es inversamente proporcional a su rango en una lista ordenada por frecuencia. Es decir, la segunda palabra más frecuente aparece aproximadamente la mitad de veces que la más frecuente, la tercera palabra aparece un tercio de veces, y así sucesivamente.\n",
    "\n",
    "En este taller se aplicará esta ley al análisis de letras de canciones de distintos géneros musicales, combinando técnicas de análisis léxico, fonológico y textométrico. Se emplearán librerías de Python como `nltk`, `fonemas`, `textstat`, `matplotlib` y `pandas` para realizar estos análisis.\n",
    "\n",
    "El propósito es comprender cómo se estructura el lenguaje en las canciones y qué patrones lingüísticos pueden encontrarse a través de estas herramientas computacionales.\n"
   ]
  },
  {
   "cell_type": "markdown",
   "id": "1f1f66d1",
   "metadata": {},
   "source": []
  },
  {
   "cell_type": "markdown",
   "id": "725414d6",
   "metadata": {},
   "source": [
    "# 1. Análisis del Conjunto de Canciones \n",
    "Cada grupo deberá: \n",
    " - Seleccionar al menos 3 canciones de artistas de diferentes géneros musicales. \n",
    " - Extraer la letra de las canciones y realizar un análisis léxico, tokenizando el texto para estudiar la frecuencia de las palabras. \n",
    " - Comprobar si la distribución de frecuencias sigue la Ley de Zipf, donde las palabras más frecuentes tienen una frecuencia inversamente proporcional a su rango."
   ]
  }
 ],
 "metadata": {
  "language_info": {
   "name": "python"
  }
 },
 "nbformat": 4,
 "nbformat_minor": 5
}
