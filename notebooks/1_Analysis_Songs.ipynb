{
 "cells": [
  {
   "cell_type": "markdown",
   "id": "3a185229",
   "metadata": {},
   "source": [
    "# Taller de la Ley de Zipf  \n",
    "\n",
    "### Integrantes del grupo:\n",
    "- Nombre 1  \n",
    "- Nombre 2  \n",
    "- Cristian Cardozo - cristiancardozo@javeriana.edu.co\n",
    "\n",
    "📅 **Fecha de entrega:** [11/08/2025]\n"
   ]
  },
  {
   "cell_type": "markdown",
   "id": "966a11f8",
   "metadata": {},
   "source": [
    "## Introducción\n",
    "\n",
    "La Ley de Zipf establece que en una lengua natural, la frecuencia de las palabras es inversamente proporcional a su rango en una lista ordenada por frecuencia. Es decir, la segunda palabra más frecuente aparece aproximadamente la mitad de veces que la más frecuente, la tercera palabra aparece un tercio de veces, y así sucesivamente.\n",
    "\n",
    "En este taller se aplicará esta ley al análisis de letras de canciones de distintos géneros musicales, combinando técnicas de análisis léxico, fonológico y textométrico. Se emplearán librerías de Python como `nltk`, `fonemas`, `textstat`, `matplotlib` y `pandas` para realizar estos análisis.\n",
    "\n",
    "El propósito es comprender cómo se estructura el lenguaje en las canciones y qué patrones lingüísticos pueden encontrarse a través de estas herramientas computacionales.\n"
   ]
  },
  {
   "cell_type": "code",
   "execution_count": null,
   "id": "ea39fdfd",
   "metadata": {},
   "outputs": [],
   "source": [
    "#pip install nltk\n",
    "#pip install transformers"
   ]
  },
  {
   "cell_type": "code",
   "execution_count": null,
   "id": "a511e4e6",
   "metadata": {},
   "outputs": [],
   "source": [
    "#Librerias\n",
    "\n",
    "#basicas\n",
    "import pandas as pd\n",
    "import numpy as np\n",
    "import matplotlib.pyplot as plt\n",
    "import seaborn as sns\n",
    "import re\n",
    "from itertools import accumulate\n",
    "\n",
    "#nltk\n",
    "import nltk\n",
    "from nltk.text import Text\n",
    "from nltk import FreqDist\n",
    "from nltk import word_tokenize\n",
    "from nltk.tokenize import TweetTokenizer\n",
    "\n",
    "#Bert\n",
    "from transformers import AutoTokenizer"
   ]
  },
  {
   "cell_type": "code",
   "execution_count": null,
   "id": "fc6fcecf",
   "metadata": {},
   "outputs": [],
   "source": [
    "#get nltk resources\n",
    "nltk.download('punkt_tab')"
   ]
  },
  {
   "cell_type": "markdown",
   "id": "f423b3e3",
   "metadata": {},
   "source": [
    "# 1. Selección de canciones y carga de letras\n",
    "\n",
    "Se seleccionó una **canción por año en Colombia**, priorizando la más popular o más representativa del periodo. Si la letra no estaba disponible o la información era insuficiente para tomar una decisión, ese año fue omitido.\n",
    "\n",
    "Toda la información se consolidó en un archivo Excel, con columnas para **año**, **título**, **artista**, **género** y **letra**. Además, esta selección se complementa con contenido de otras dos fuentes reconocidas (las listas de *El Tiempo* y *Radio Nacional de Colombia*) y con la inspiración del video musical que compartimos.\n",
    "\n",
    "Las fuentes adicionales son:\n",
    "Las fuentes adicionales son:\n",
    "- La lista **Las 50 mejores canciones de Colombia** del diario *El Tiempo*: \n",
    "\n",
    "[https://www.eltiempo.com/don-juan/cultura/las-50-mejores-canciones-de-colombia+articulo+12683827](https://www.eltiempo.com/don-juan/cultura/las-50-mejores-canciones-de-colombia+articulo+12683827)  \n",
    "- La recopilación **Radio Nacional de Colombia: 80 años en 80 canciones**: \n",
    "\n",
    "[https://www.radionacional.co/cultura/radio-nacional-de-colombia-80-anos-en-80-canciones](https://www.radionacional.co/cultura/radio-nacional-de-colombia-80-anos-en-80-canciones)  \n",
    "- El video de **FULANITOVIAJERO – Periodista Musical**: \n",
    "\n",
    "[https://www.youtube.com/watch?v=mUyhGhySNek&list=RDmUyhGhySNek&start_radio=1](https://www.youtube.com/watch?v=mUyhGhySNek&list=RDmUyhGhySNek&start_radio=1)\n",
    "\n",
    "\n",
    "### Canciones seleccionadas (año – género – título – artista)\n",
    "\n",
    "- 1945 – Porro – *Se va el caimán* – José María Peñaranda  \n",
    "- 1946 – Bambuco – *Soy Colombiano* – Rafael Godoy (Garzón y Collazos)  \n",
    "- 1947 – Rumba criolla – *La loca Margarita* – Hermanas Garavito  \n",
    "- 1948 – Cumbia – *Navidad Negra* – Los Trovadores de Barú  \n",
    "- 1949 – Foxtrot tropical – *Pachito E’ché* – Alex Tovar (Lucho Bermúdez y su Orq.)  \n",
    "- 1950 – Joropo – *Ay si, si* – Luis Ariel Rey  \n",
    "- 1951 – Bambuco – *Los cisnes* – Garzón y Collazos  \n",
    "- 1952 – Vallenato – *Alicia la campesina* – Los Vallenatos del Magdalena  \n",
    "- 1953 – Porro – *El año viejo* – Crescencio Salcedo  \n",
    "- 1954 – Porro – *La múcura* – Lucho Bermúdez y Matilde Díaz  \n",
    "- 1955 – Merecumbé – *Cosita linda* – Pacho Galán  \n",
    "- 1956 – Vallenato – *Lirio rojo* – Calixto Ochoa  \n",
    "- 1957 – Rumba criolla – *Por vivir en Bogotá* – Hermanas Garavito  \n",
    "- 1959 – Cumbia – *El pescador* – José Barros (Los Trovadores de Barú)  \n",
    "- 1960 – Cumbia – *La piragua* – José Barros (Los Black Stars)  \n",
    "- 1961 – Cumbia – *La pollera colorá* – Wilson Choperena (Orq. de P. Salcedo)  \n",
    "- 1962 – Porro – *La paloma guarumera* – Los Corraleros de Majagual  \n",
    "- 1963 – Vallenato – *La casa en el aire* – Rafael Escalona (Bovea y sus Vallenatos)  \n",
    "- 1964 – Currulao – *A la mina no voy* – Leonor González Mina  \n",
    "- 1965 – Bambuco – *Pueblito viejo* – Garzón y Collazos  \n",
    "- 1966 – Nueva ola – *Llorando estoy* – Vicky (Esperanza Acevedo)  \n",
    "- 1967 – Cumbia – *La piragua* – Gabriel Romero & Los Black Stars  \n",
    "- 1968 – Vallenato – *Pedazo de acordeón* – Alejo Durán  \n",
    "- 1969 – Currulao – *Mi Buenaventura* – Peregoyo y su Combo Vacaná  \n",
    "- 1970 – Balada romántica – *Llévame contigo* – Claudia de Colombia  \n",
    "- 1971 – Cumbia – *Los sabanales* – Los Corraleros de Majagual (Calixto Ochoa)  \n",
    "- 1972 – Balada pop – *Alguien cantó una canción* – Billy Pontoni  \n",
    "- 1973 – Salsa – *La sirena* – Nelson y Sus Estrellas  \n",
    "- 1974 – Salsa – *Las caleñas son como las flores* – The Latin Brothers (Joe Arroyo)  \n",
    "- 1975 – Salsa – *El preso* – Fruko y Sus Tesos  \n",
    "- 1976 – Vallenato – *La creciente* – Binomio de Oro de América  \n",
    "- 1977 – Balada – *Llamarada* – Isadora (Fernanda Bustos)  \n",
    "- 1978 – Bolero – *María de los guardias* – Helenita Vargas  \n",
    "- 1979 – Cumbia tropical – *Cariñito* – Rodolfo Aicardi  \n",
    "- 1980 – Carranga – *La cucharita* – Jorge Velosa y Los Carrangueros  \n",
    "- 1981 – Joropo – *Ay mi llanura* – Arnulfo Briceño  \n",
    "- 1982 – Vallenato – *Todo es para ti* – Diomedes Díaz  \n",
    "- 1983 – Cumbia – *Golpe con golpe* – Pastor López  \n",
    "- 1984 – Salsa – *Cali pachanguero* – Grupo Niche  \n",
    "- 1985 – Balada pop – *¿Dónde estará mi primavera?* – Raúl Santi  \n",
    "- 1986 – Salsa – *Rebelión* – Joe Arroyo y La Verdad  \n",
    "- 1987 – Balada pop – *Como un picaflor* – Raúl Santi  \n",
    "- 1988 – Rock en español – *La calle* – Compañía Ilimitada  \n",
    "- 1989 – Balada – *La causa nacional* – Sociedad Anónima  \n",
    "- 1990 – Salsa – *Una aventura* – Grupo Niche  \n",
    "- 1991 – Cumbia – *Colombia tierra querida* – Lucho Bermúdez & Matilde Díaz  \n",
    "- 1993 – Vallenato fusión – *La gota fría* – Carlos Vives  \n",
    "- 1994 – Vallenato – *El santo cachón* – Los Embajadores Vallenatos  \n",
    "- 1995 – Pop latino – *Estoy aquí* – Shakira  \n",
    "- 1996 – Jazz-folk – *Los caminos de la vida* – Los Diablitos (Omar Geles)  \n",
    "- 1997 – Tropipop – *La tierra del olvido* – Carlos Vives  \n",
    "- 1998 – Rock – *Florecita rockera* – Aterciopelados  \n",
    "- 1999 – Pop-rock – *Me voy* – Andrés Cepeda  \n",
    "- 2000 – Rock – *Fíjate bien* – Juanes  \n",
    "- 2001 – Pop rock – *Suerte (Whenever, Wherever)* – Shakira  \n",
    "- 2002 – Rock – *A Dios le pido* – Juanes  \n",
    "- 2004 – Salsa – *La pantera mambo* – La 33  \n",
    "- 2005 – Pop rock – *La camisa negra* – Juanes  \n",
    "- 2007 – Hip-hop – *Somos pacífico* – ChocQuibTown  \n",
    "- 2008 – Electro-cumbia – *Fuego* – Bomba Estéreo  \n",
    "- 2009 – Electro-folk – *Mi Kolombia* – Systema Solar  \n",
    "- 2010 – Pop – *Waka Waka* – Shakira (ft. Freshlyground)  \n",
    "- 2011 – Hip-hop – *Chocolate* – Profetas  \n",
    "- 2012 – Swing – *Suín Romanticón* – Monsieur Periné  \n",
    "- 2013 – Pop-vallenato – *Volví a nacer* – Carlos Vives  \n",
    "- 2014 – Reguetón – *6 AM* – J Balvin (ft. Farruko)  \n",
    "- 2015 – Reguetón – *Ginza* – J Balvin  \n",
    "- 2016 – Vallenato-pop – *La bicicleta* – Carlos Vives & Shakira  \n",
    "- 2017 – Reguetón – *Mi gente* – J Balvin & Willy William  \n",
    "- 2018 – Reguetón – *Mi cama* – Karol G  \n",
    "- 2019 – Reguetón-pop – *Tusa* – Karol G (ft. Nicki Minaj)  \n",
    "- 2020 – Reguetón-pop – *Hawái* – Maluma  \n",
    "- 2021 – Reguetón – *Bichota* – Karol G  \n",
    "- 2022 – Reguetón – *Provenza* – Karol G  \n",
    "- 2023 – Reguetón-pop – *TQG (Te Quedó Grande)* – Karol G & Shakira  \n",
    "- 2024 – Reguetón-pop – *LUNA* – ATL Jacob & Feid  \n",
    "- 2025 – Pop – *Enamorarte Mil Veces* – Fonseca & Manuel Medrano  "
   ]
  },
  {
   "cell_type": "code",
   "execution_count": null,
   "id": "7f5ccd6a",
   "metadata": {},
   "outputs": [],
   "source": [
    "data_lyrics = pd.read_excel('../data/input/Canciones_Colombianas_1945_2023.xlsx')\n",
    "data_lyrics.head(3)"
   ]
  },
  {
   "cell_type": "code",
   "execution_count": null,
   "id": "978c1705",
   "metadata": {},
   "outputs": [],
   "source": [
    "plt.figure(figsize=(10, 9))\n",
    "plt.title('Distribución de géneros musicales en las canciones colombianas')\n",
    "plt.xlabel('Número de canciones')\n",
    "plt.ylabel('Género musical')\n",
    "sns.set_style(\"whitegrid\")\n",
    "sns.set_palette(\"Dark2\")\n",
    "data_lyrics.sort_values(by=['genero']).groupby(['genero']).size().plot(kind='barh', color=sns.palettes.mpl_palette('Dark2'))\n",
    "plt.gca().spines[['top', 'right',]].set_visible(False)"
   ]
  },
  {
   "cell_type": "markdown",
   "id": "725414d6",
   "metadata": {},
   "source": [
    "# 2. Análisis léxico y validación de la Ley de Zipf\n",
    "\n",
    "Esta sección realiza la tokenización del texto de cada canción, el cálculo de la frecuencia de aparición de cada palabra y la visualización de la distribución de frecuencias.\n",
    "\n",
    "El objetivo es verificar si las canciones siguen el comportamiento propuesto por la Ley de Zipf.\n",
    "\n",
    "Se observará si la frecuencia de una palabra está inversamente relacionada con su posición en el ranking de palabras más usadas."
   ]
  },
  {
   "cell_type": "markdown",
   "id": "06a8addf",
   "metadata": {},
   "source": [
    "## 2.1. Se evaluaron diferentes opciones de tokenización:\n",
    "\n",
    "- Spanish & NLTK\n",
    "- Tweet\n",
    "- BERT (base)\n",
    "- RoBERTa entrenado en corpus en español\n",
    "\n",
    "Adelantándonos a la conclusión, se optó por el tokenizador en español de NLTK, ya que no realiza transformaciones sobre los tokens y, además, facilita su interpretación, lo que resulta ventajoso para el análisis posterior."
   ]
  },
  {
   "cell_type": "code",
   "execution_count": null,
   "id": "0faf4120",
   "metadata": {},
   "outputs": [],
   "source": [
    "#get example text\n",
    "example_text = data_lyrics['letra'][45]\n",
    "print(f\"Texto de ejemplo: {example_text[:200]}...\")\n",
    "\n",
    "# Tokenización spanish\n",
    "tokens = word_tokenize(language=\"spanish\", text=example_text)\n",
    "text = Text(tokens)\n",
    "print(\"Tokenización nltk & spanish\")\n",
    "for i in range(0, min(len(text), 100), 10):\n",
    "    print(text[i:i+10])"
   ]
  },
  {
   "cell_type": "code",
   "execution_count": null,
   "id": "2c435493",
   "metadata": {},
   "outputs": [],
   "source": [
    "print(f\"Texto de ejemplo: {example_text[:200]}...\")\n",
    "\n",
    "# Tokenización tweet\n",
    "tokenTweet = TweetTokenizer()\n",
    "tokens_tweet = tokenTweet.tokenize(text=example_text)\n",
    "text_tweet = Text(tokens_tweet)\n",
    "\n",
    "print(\"Tokenización tweet\")\n",
    "for i in range(0, min(len(text_tweet), 100), 10):\n",
    "    print(text_tweet[i:i+10])"
   ]
  },
  {
   "cell_type": "code",
   "execution_count": null,
   "id": "db564e3f",
   "metadata": {},
   "outputs": [],
   "source": [
    "print(f\"Texto de ejemplo: {example_text[:200]}...\")\n",
    "\n",
    "# Tokenización tweet\n",
    "tokenizer = AutoTokenizer.from_pretrained(\"bert-base-cased\")\n",
    "tokens_bert = tokenizer.tokenize(example_text)\n",
    "text_bert = Text(tokens_bert)\n",
    "\n",
    "print(\"Tokenización BERT\")\n",
    "for i in range(0, min(len(text_bert), 100), 10):\n",
    "    print(text_bert[i:i+10])"
   ]
  },
  {
   "cell_type": "code",
   "execution_count": null,
   "id": "abe65c71",
   "metadata": {},
   "outputs": [],
   "source": [
    "print(f\"Texto de ejemplo: {example_text[:200]}...\")\n",
    "\n",
    "tokenizer_bert_spanish = AutoTokenizer.from_pretrained(\"dccuchile/bert-base-spanish-wwm-uncased\")\n",
    "tokens_bert_spanish = tokenizer_bert_spanish.tokenize(example_text)\n",
    "text_bert_spanish = Text(tokens_bert_spanish)\n",
    "\n",
    "print(\"Tokenización BERT SPANISH\")\n",
    "for i in range(0, min(len(text_bert_spanish), 100), 10):\n",
    "    print(text_bert_spanish[i:i+10])"
   ]
  },
  {
   "cell_type": "markdown",
   "id": "ab19d6b4",
   "metadata": {},
   "source": [
    "## 2.2 Ley de zifp"
   ]
  },
  {
   "cell_type": "code",
   "execution_count": null,
   "id": "60306a48",
   "metadata": {},
   "outputs": [],
   "source": [
    "def concatenate_column(df, column_name, separator=' | '):\n",
    "    concatenated_string = df[column_name].astype(str).str.cat(sep=separator)\n",
    "    return concatenated_string"
   ]
  },
  {
   "cell_type": "code",
   "execution_count": null,
   "id": "4e77133b",
   "metadata": {},
   "outputs": [],
   "source": [
    "tokens_letra = Text(word_tokenize(language=\"spanish\", text=concatenate_column(data_lyrics, 'letra')))"
   ]
  },
  {
   "cell_type": "code",
   "execution_count": null,
   "id": "175957b1",
   "metadata": {},
   "outputs": [],
   "source": [
    "fdist1 = FreqDist(tokens_letra)\n",
    "fdist1.tabulate(50)"
   ]
  },
  {
   "cell_type": "code",
   "execution_count": null,
   "id": "7aea673f",
   "metadata": {},
   "outputs": [],
   "source": [
    "fig = plt.figure(figsize = (24, 7))\n",
    "fdist1.plot(100,percents=True, title = 'Frecuencia de las 100 palabras más comunes en las letras de canciones colombianas (1945-2025)')"
   ]
  },
  {
   "cell_type": "code",
   "execution_count": null,
   "id": "f521e5b8",
   "metadata": {},
   "outputs": [],
   "source": [
    "fig = plt.figure(figsize = (24, 7))\n",
    "fdist1.plot(100, cumulative=True, percents=True, title = 'Frecuencia acumulada de las 100 palabras más comunes en las letras de canciones colombianas (1945-2025)')"
   ]
  },
  {
   "cell_type": "code",
   "execution_count": null,
   "id": "cad1533e",
   "metadata": {},
   "outputs": [],
   "source": [
    "# Funcion\n",
    "fd = {k: v for k, v in sorted(fdist1.items(), key=lambda item: item[1], reverse=True)}\n",
    "\n",
    "ranks = []\n",
    "freqs = []\n",
    "\n",
    "for rank, word in enumerate(fd):\n",
    "    ranks.append(rank + 1)\n",
    "    freqs.append(fd[word])\n",
    "\n",
    "# Gráfico Ley de Zipf\n",
    "plt.loglog(ranks, freqs)\n",
    "plt.xlabel('Rank')\n",
    "plt.ylabel('Freq')\n",
    "plt.title('Log - Log rank - freq chart')\n",
    "plt.show()"
   ]
  },
  {
   "cell_type": "markdown",
   "id": "51df95ff",
   "metadata": {},
   "source": [
    "El comportamiento de la curva en escala log-log confirma la ley de zifp que unas pocas palabras concentran gran parte de las apariciones, mientras que la mayoría son muy poco frecuentes."
   ]
  },
  {
   "cell_type": "markdown",
   "id": "56bd46fd",
   "metadata": {},
   "source": [
    "# 3. Análisis fonológico y fonético\n",
    "\n",
    "En esta parte, se va ha transcribir fonéticamente las palabras de las canciones seleccionadas. El análisis fonológico permite observar los patrones sonoros del lenguaje en las canciones"
   ]
  }
 ],
 "metadata": {
  "kernelspec": {
   "display_name": "Python 3",
   "language": "python",
   "name": "python3"
  },
  "language_info": {
   "codemirror_mode": {
    "name": "ipython",
    "version": 3
   },
   "file_extension": ".py",
   "mimetype": "text/x-python",
   "name": "python",
   "nbconvert_exporter": "python",
   "pygments_lexer": "ipython3",
   "version": "3.10.6"
  }
 },
 "nbformat": 4,
 "nbformat_minor": 5
}
